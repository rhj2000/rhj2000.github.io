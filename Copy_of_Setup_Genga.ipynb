{
  "cells": [
    {
      "cell_type": "markdown",
      "metadata": {
        "id": "view-in-github",
        "colab_type": "text"
      },
      "source": [
        "<a href=\"https://colab.research.google.com/github/rhj2000/rhj2000.github.io/blob/master/Copy_of_Setup_Genga.ipynb\" target=\"_parent\"><img src=\"https://colab.research.google.com/assets/colab-badge.svg\" alt=\"Open In Colab\"/></a>"
      ]
    },
    {
      "cell_type": "markdown",
      "metadata": {
        "id": "ljAwUpB1cndC"
      },
      "source": [
        "# Setup of GENGA on Google Colab\n",
        "\n",
        "[GENGA](https://bitbucket.org/sigrimm/genga/src/master/) is a code that uses GPUs to perform N-body simulations (see the [docs](https://genga.readthedocs.io/en/latest/)).  This tutorial will show you how to setup GENGA using the GPU resources of Google Colab.  First, you must ensure that you have access to a GPU through the follwing:\n",
        "\n",
        "- Go to Runtime-->Change runtime type\n",
        "- Select GPU from a dropdown menu\n",
        "\n",
        "The source code for GENGA needs to loaded into Google Colab.  You can mount your Google Drive to have persistent memory or use the local memory for Google Colab, which is cleared after your session.  For the latter, you must be sure to download your results.  After uploading the GENGA source zip file (or using wget), you can use \"!unzip\" to extract the source in to the local directory.  \n",
        "\n",
        "- Note: It is easier to manage if you rename the directory of the extracted files to \"genga\" or something shorter."
      ]
    },
    {
      "cell_type": "code",
      "execution_count": null,
      "metadata": {
        "colab": {
          "base_uri": "https://localhost:8080/"
        },
        "id": "2Twuh57KjoDW",
        "outputId": "0d1a9375-50a4-46d3-f1cc-de22f7571dbd"
      },
      "outputs": [
        {
          "name": "stdout",
          "output_type": "stream",
          "text": [
            "Mounted at /content/drive\n"
          ]
        }
      ],
      "source": [
        "from google.colab import drive\n",
        "drive.mount('/content/drive')"
      ]
    },
    {
      "cell_type": "code",
      "execution_count": null,
      "metadata": {
        "colab": {
          "base_uri": "https://localhost:8080/"
        },
        "id": "o37EakD7R3Kn",
        "outputId": "857032f0-6b51-448e-f1ce-395f4b22009b"
      },
      "outputs": [
        {
          "name": "stdout",
          "output_type": "stream",
          "text": [
            "--2022-01-27 05:30:44--  https://bitbucket.org/sigrimm/genga/get/31da424f602d.zip\n",
            "Resolving bitbucket.org (bitbucket.org)... 104.192.141.1, 2406:da00:ff00::22e9:9f55, 2406:da00:ff00::22c0:3470, ...\n",
            "Connecting to bitbucket.org (bitbucket.org)|104.192.141.1|:443... connected.\n",
            "HTTP request sent, awaiting response... 200 OK\n",
            "Length: 3492243 (3.3M) [application/zip]\n",
            "Saving to: ‘sigrimm-genga.zip’\n",
            "\n",
            "sigrimm-genga.zip   100%[===================>]   3.33M  9.37MB/s    in 0.4s    \n",
            "\n",
            "2022-01-27 05:30:45 (9.37 MB/s) - ‘sigrimm-genga.zip’ saved [3492243/3492243]\n",
            "\n",
            "Archive:  sigrimm-genga.zip\n",
            "31da424f602d99cdd13ad892ccbf12b5a8ae4883\n",
            "   creating: sigrimm-genga-31da424f602d/\n",
            "  inflating: sigrimm-genga-31da424f602d/.gitignore  \n",
            "  inflating: sigrimm-genga-31da424f602d/.readthedocs.yaml  \n",
            "  inflating: sigrimm-genga-31da424f602d/Documentation.md  \n",
            "   creating: sigrimm-genga-31da424f602d/GengaGL/\n",
            "  inflating: sigrimm-genga-31da424f602d/GengaGL/Makefile  \n",
            "  inflating: sigrimm-genga-31da424f602d/GengaGL/gengaGL.cu  \n",
            "   creating: sigrimm-genga-31da424f602d/HIP/\n",
            "  inflating: sigrimm-genga-31da424f602d/HIP/GengaHIP.py  \n",
            "  inflating: sigrimm-genga-31da424f602d/README.md  \n",
            "   creating: sigrimm-genga-31da424f602d/docs/\n",
            "  inflating: sigrimm-genga-31da424f602d/docs/Bibliography.rst  \n",
            "  inflating: sigrimm-genga-31da424f602d/docs/Collisions.rst  \n",
            "  inflating: sigrimm-genga-31da424f602d/docs/ConsoleArguments.rst  \n",
            "  inflating: sigrimm-genga-31da424f602d/docs/Define.rst  \n",
            "  inflating: sigrimm-genga-31da424f602d/docs/Ejection.rst  \n",
            "  inflating: sigrimm-genga-31da424f602d/docs/Encounters.rst  \n",
            "  inflating: sigrimm-genga-31da424f602d/docs/Files.rst  \n",
            "  inflating: sigrimm-genga-31da424f602d/docs/GR.rst  \n",
            "  inflating: sigrimm-genga-31da424f602d/docs/InitialConditions.rst  \n",
            "  inflating: sigrimm-genga-31da424f602d/docs/Integrator.rst  \n",
            "  inflating: sigrimm-genga-31da424f602d/docs/KickFloat.rst  \n",
            "  inflating: sigrimm-genga-31da424f602d/docs/Makefile  \n",
            "  inflating: sigrimm-genga-31da424f602d/docs/PRdrag.rst  \n",
            "  inflating: sigrimm-genga-31da424f602d/docs/Param.rst  \n",
            "  inflating: sigrimm-genga-31da424f602d/docs/Poincare.rst  \n",
            "  inflating: sigrimm-genga-31da424f602d/docs/RotationalDeformation.rst  \n",
            "  inflating: sigrimm-genga-31da424f602d/docs/Run.rst  \n",
            "  inflating: sigrimm-genga-31da424f602d/docs/SerialGrouping.rst  \n",
            "  inflating: sigrimm-genga-31da424f602d/docs/SetElements.rst  \n",
            "  inflating: sigrimm-genga-31da424f602d/docs/Setup.rst  \n",
            "  inflating: sigrimm-genga-31da424f602d/docs/SmallBodies.rst  \n",
            "  inflating: sigrimm-genga-31da424f602d/docs/Tides.rst  \n",
            "  inflating: sigrimm-genga-31da424f602d/docs/Yarkovsky.rst  \n",
            "  inflating: sigrimm-genga-31da424f602d/docs/aeGrid.rst  \n",
            "  inflating: sigrimm-genga-31da424f602d/docs/conf.py  \n",
            "  inflating: sigrimm-genga-31da424f602d/docs/index.rst  \n",
            "  inflating: sigrimm-genga-31da424f602d/docs/make.bat  \n",
            "   creating: sigrimm-genga-31da424f602d/docs/plots/\n",
            "  inflating: sigrimm-genga-31da424f602d/docs/plots/Collision.png  \n",
            "  inflating: sigrimm-genga-31da424f602d/docs/plots/Collision2.png  \n",
            "  inflating: sigrimm-genga-31da424f602d/docs/plots/Collision3.png  \n",
            "  inflating: sigrimm-genga-31da424f602d/docs/plots/CollisionZoom.png  \n",
            "  inflating: sigrimm-genga-31da424f602d/docs/plots/GRdiff.png  \n",
            "  inflating: sigrimm-genga-31da424f602d/docs/plots/PR.png  \n",
            "  inflating: sigrimm-genga-31da424f602d/docs/plots/PerformanceFloat.png  \n",
            "  inflating: sigrimm-genga-31da424f602d/docs/plots/PerformanceGR.png  \n",
            "  inflating: sigrimm-genga-31da424f602d/docs/plots/PhobosTides.png  \n",
            "  inflating: sigrimm-genga-31da424f602d/docs/plots/TPtime.png  \n",
            "  inflating: sigrimm-genga-31da424f602d/docs/plots/TestParticles.png  \n",
            "  inflating: sigrimm-genga-31da424f602d/docs/plots/Yarkovsky.png  \n",
            "  inflating: sigrimm-genga-31da424f602d/docs/plots/YarkovskyPR.png  \n",
            "  inflating: sigrimm-genga-31da424f602d/docs/plots/aeCount.png  \n",
            "  inflating: sigrimm-genga-31da424f602d/docs/plots/aeCountS.png  \n",
            "  inflating: sigrimm-genga-31da424f602d/docs/plots/gengaGL.png  \n",
            "  inflating: sigrimm-genga-31da424f602d/docs/refs.bib  \n",
            " extracting: sigrimm-genga-31da424f602d/docs/requirements.txt  \n",
            "   creating: sigrimm-genga-31da424f602d/source/\n",
            "  inflating: sigrimm-genga-31da424f602d/source/BSA.h  \n",
            "  inflating: sigrimm-genga-31da424f602d/source/BSB.h  \n",
            "  inflating: sigrimm-genga-31da424f602d/source/BSB64M.h  \n",
            "  inflating: sigrimm-genga-31da424f602d/source/BSBM.h  \n",
            "  inflating: sigrimm-genga-31da424f602d/source/BSRV.h  \n",
            "  inflating: sigrimm-genga-31da424f602d/source/BSSingle.h  \n",
            "  inflating: sigrimm-genga-31da424f602d/source/BSTTV.h  \n",
            "  inflating: sigrimm-genga-31da424f602d/source/ComEnergy.h  \n",
            "  inflating: sigrimm-genga-31da424f602d/source/Encounter3.h  \n",
            "  inflating: sigrimm-genga-31da424f602d/source/Energy.cu  \n",
            "  inflating: sigrimm-genga-31da424f602d/source/FG2.h  \n",
            "  inflating: sigrimm-genga-31da424f602d/source/HC.h  \n",
            "  inflating: sigrimm-genga-31da424f602d/source/Host2.cu  \n",
            "  inflating: sigrimm-genga-31da424f602d/source/Host2.h  \n",
            "  inflating: sigrimm-genga-31da424f602d/source/Kick3.h  \n",
            "  inflating: sigrimm-genga-31da424f602d/source/Kick4.h  \n",
            "  inflating: sigrimm-genga-31da424f602d/source/Makefile  \n",
            "  inflating: sigrimm-genga-31da424f602d/source/Orbit2.cu  \n",
            "  inflating: sigrimm-genga-31da424f602d/source/Orbit2.h  \n",
            "  inflating: sigrimm-genga-31da424f602d/source/Rcrit.h  \n",
            "  inflating: sigrimm-genga-31da424f602d/source/Scan.h  \n",
            "  inflating: sigrimm-genga-31da424f602d/source/TTVAll.h  \n",
            "  inflating: sigrimm-genga-31da424f602d/source/TTVStep2.h  \n",
            "  inflating: sigrimm-genga-31da424f602d/source/define.h  \n",
            "  inflating: sigrimm-genga-31da424f602d/source/directAcc.h  \n",
            "  inflating: sigrimm-genga-31da424f602d/source/force.h  \n",
            "  inflating: sigrimm-genga-31da424f602d/source/forceYarkovskyOld.h  \n",
            "  inflating: sigrimm-genga-31da424f602d/source/gas.cu  \n",
            "  inflating: sigrimm-genga-31da424f602d/source/genga.cu  \n",
            "  inflating: sigrimm-genga-31da424f602d/source/initialplanet_2048.dat  \n",
            "  inflating: sigrimm-genga-31da424f602d/source/integrator.cu  \n",
            "  inflating: sigrimm-genga-31da424f602d/source/output.cu  \n",
            "  inflating: sigrimm-genga-31da424f602d/source/param.dat  \n",
            "   creating: sigrimm-genga-31da424f602d/tools/\n",
            "  inflating: sigrimm-genga-31da424f602d/tools/CoordinatesTransformation.cpp  \n",
            "  inflating: sigrimm-genga-31da424f602d/tools/KE.cu  \n",
            "  inflating: sigrimm-genga-31da424f602d/tools/Makefile  \n",
            "  inflating: sigrimm-genga-31da424f602d/tools/ffmpeg.sh  \n",
            "  inflating: sigrimm-genga-31da424f602d/tools/plot.py  \n",
            "  inflating: sigrimm-genga-31da424f602d/tools/plotaei.py  \n",
            "  inflating: sigrimm-genga-31da424f602d/tools/script  \n"
          ]
        }
      ],
      "source": [
        "!wget -O sigrimm-genga.zip https://bitbucket.org/sigrimm/genga/get/31da424f602d.zip\n",
        "!unzip sigrimm-genga.zip"
      ]
    },
    {
      "cell_type": "markdown",
      "metadata": {
        "id": "Iyz1HWP4ezt9"
      },
      "source": [
        "After extracting the files and renaming the directory, we need to move to the source directory using \"%cd /content/genga/source/\""
      ]
    },
    {
      "cell_type": "code",
      "execution_count": null,
      "metadata": {
        "colab": {
          "base_uri": "https://localhost:8080/"
        },
        "id": "JLtAZeEcT9wz",
        "outputId": "23e7ba15-8b68-4f43-a53b-bf899163316e"
      },
      "outputs": [
        {
          "name": "stdout",
          "output_type": "stream",
          "text": [
            "/content/genga/source\n"
          ]
        }
      ],
      "source": [
        "%cd /content/genga/source"
      ]
    },
    {
      "cell_type": "markdown",
      "metadata": {
        "id": "cYKzbABpe_RV"
      },
      "source": [
        "While in the source directory, we need to first check the type of GPU is on the hosted runtime.  This could be an Nvidia K80, T4, or P100, where each of these cards have a different compute capability (which determines how it is compiled in CUDA).  You can use the \"!nvidia-smi\" command to determine which card is available.  Then GENGA can be compiled using the \"!make SM=XX\" command, where the XX is replaced with the compute capability (e.g., 3.5-->35)."
      ]
    },
    {
      "cell_type": "markdown",
      "metadata": {
        "id": "Pw6FEDjifzD_"
      },
      "source": [
        "Next you need to move to the directory with the input files for GENGA.  There are only 2 files:\n",
        "\n",
        "- initialdisk.dat\n",
        "    - contains the initial states of all the particles\n",
        "- param.dat\n",
        "    - configures the settings for the simulation\n",
        "    - some settings are how long to run the simulations or how frequent you want to have output\n"
      ]
    },
    {
      "cell_type": "code",
      "execution_count": 31,
      "metadata": {
        "colab": {
          "base_uri": "https://localhost:8080/"
        },
        "id": "T3_TyrPLB-7F",
        "outputId": "44d25686-628d-4ac8-82a4-8fa0a3c74347"
      },
      "outputs": [
        {
          "output_type": "stream",
          "name": "stdout",
          "text": [
            "Mon Jan 31 20:54:36 2022       \n",
            "+-----------------------------------------------------------------------------+\n",
            "| NVIDIA-SMI 495.46       Driver Version: 460.32.03    CUDA Version: 11.2     |\n",
            "|-------------------------------+----------------------+----------------------+\n",
            "| GPU  Name        Persistence-M| Bus-Id        Disp.A | Volatile Uncorr. ECC |\n",
            "| Fan  Temp  Perf  Pwr:Usage/Cap|         Memory-Usage | GPU-Util  Compute M. |\n",
            "|                               |                      |               MIG M. |\n",
            "|===============================+======================+======================|\n",
            "|   0  Tesla K80           Off  | 00000000:00:04.0 Off |                    0 |\n",
            "| N/A   37C    P8    28W / 149W |      0MiB / 11441MiB |      0%      Default |\n",
            "|                               |                      |                  N/A |\n",
            "+-------------------------------+----------------------+----------------------+\n",
            "                                                                               \n",
            "+-----------------------------------------------------------------------------+\n",
            "| Processes:                                                                  |\n",
            "|  GPU   GI   CI        PID   Type   Process name                  GPU Memory |\n",
            "|        ID   ID                                                   Usage      |\n",
            "|=============================================================================|\n",
            "|  No running processes found                                                 |\n",
            "+-----------------------------------------------------------------------------+\n"
          ]
        }
      ],
      "source": [
        "!nvidia-smi"
      ]
    },
    {
      "cell_type": "code",
      "execution_count": 33,
      "metadata": {
        "id": "sDtxho6IqKEy"
      },
      "outputs": [],
      "source": [
        "!rm genga #use to remake genga after building with wrong cuda version"
      ]
    },
    {
      "cell_type": "code",
      "execution_count": null,
      "metadata": {
        "colab": {
          "base_uri": "https://localhost:8080/"
        },
        "id": "cLtFBmW-CHKv",
        "outputId": "7f187400-88f7-4190-fa8f-2ea3b49c5a7d"
      },
      "outputs": [
        {
          "name": "stdout",
          "output_type": "stream",
          "text": [
            "Initialized empty Git repository in /content/genga/source/.git/\n"
          ]
        }
      ],
      "source": [
        "!git init"
      ]
    },
    {
      "cell_type": "code",
      "execution_count": 34,
      "metadata": {
        "colab": {
          "base_uri": "https://localhost:8080/"
        },
        "id": "dKKSVHI0rdDs",
        "outputId": "2091a920-7e15-4357-8098-7dd6286c3c90"
      },
      "outputs": [
        {
          "output_type": "stream",
          "name": "stdout",
          "text": [
            "nvcc -arch sm_37 --compiler-options -Wall -o genga genga.cu Host2.cu Orbit2.cu Energy.cu output.cu integrator.cu gas.cu  -DGIT_BRANCH=\\\"`git rev-parse --abbrev-ref HEAD`\\\" -DGIT_COMMIT=\\\"`git rev-parse HEAD`\\\" -DBUILD_DATE=\\\"\"`date`\"\\\" -DBUILD_SYSTEM=\\\"\"`uname -a`\"\\\" -DBUILD_PATH=\\\"\"`pwd`\"\\\" -DBUILD_SM=\\\"37\\\"\n",
            "fatal: ambiguous argument 'HEAD': unknown revision or path not in the working tree.\n",
            "Use '--' to separate paths from revisions, like this:\n",
            "'git <command> [<revision>...] -- [<file>...]'\n",
            "fatal: ambiguous argument 'HEAD': unknown revision or path not in the working tree.\n",
            "Use '--' to separate paths from revisions, like this:\n",
            "'git <command> [<revision>...] -- [<file>...]'\n",
            "nvcc warning : The 'compute_35', 'compute_37', 'compute_50', 'sm_35', 'sm_37' and 'sm_50' architectures are deprecated, and may be removed in a future release (Use -Wno-deprecated-gpu-targets to suppress warning).\n"
          ]
        }
      ],
      "source": [
        "!make SM=37"
      ]
    },
    {
      "cell_type": "code",
      "execution_count": 35,
      "metadata": {
        "id": "BfM6oCAmCPKX",
        "colab": {
          "base_uri": "https://localhost:8080/"
        },
        "outputId": "52c79eef-70ed-42f3-faaf-6911fd9e6cd4"
      },
      "outputs": [
        {
          "output_type": "stream",
          "name": "stdout",
          "text": [
            "mkdir: cannot create directory ‘../../temp’: File exists\n"
          ]
        }
      ],
      "source": [
        "!mkdir ../../temp"
      ]
    },
    {
      "cell_type": "code",
      "execution_count": 36,
      "metadata": {
        "colab": {
          "base_uri": "https://localhost:8080/"
        },
        "id": "eiOI5iJJqN7T",
        "outputId": "2d72b92e-2785-40d4-d9c4-20c7f3e1f3c0"
      },
      "outputs": [
        {
          "output_type": "stream",
          "name": "stdout",
          "text": [
            "/content/temp\n"
          ]
        }
      ],
      "source": [
        "%cd ../../temp/"
      ]
    },
    {
      "cell_type": "code",
      "execution_count": null,
      "metadata": {
        "id": "91zNEyj8C9yE"
      },
      "outputs": [],
      "source": [
        "!cp ../genga/source/param.dat ."
      ]
    },
    {
      "cell_type": "code",
      "execution_count": null,
      "metadata": {
        "id": "gznUBzTYDETF"
      },
      "outputs": [],
      "source": [
        "!cp ../genga/source/initialplanet_2048.dat ."
      ]
    },
    {
      "cell_type": "markdown",
      "metadata": {
        "id": "nS25WVcgg8Oj"
      },
      "source": [
        "Finally, we can run GENGA.  Since we are in the \"temp\" directory, we use the relative path to the genga executable that we compiled."
      ]
    },
    {
      "cell_type": "code",
      "execution_count": 37,
      "metadata": {
        "colab": {
          "base_uri": "https://localhost:8080/"
        },
        "id": "UaYh6FHNVTz7",
        "outputId": "ab22d858-8270-4544-9f1e-e5bbcf6ac36d"
      },
      "outputs": [
        {
          "output_type": "stream",
          "name": "stdout",
          "text": [
            "Start GENGA\n",
            "Read parameters\n",
            "Parameters OK\n",
            "Read Size\n",
            "Size OK\n",
            "\n",
            " ******** Simulation path  ********\n",
            "\n",
            "Genga Version: 3.137\n",
            "Mercurial Branch: HEAD\n",
            "Mercurial Commit: HEAD\n",
            "Build Date: Mon Jan 31 20:54:46 UTC 2022\n",
            "Build Path: /content/genga/source\n",
            "Build System: Linux c5cc844b306c 5.4.144+ #1 SMP Tue Dec 7 09:58:10 PST 2021 x86_64 x86_64 x86_64 GNU/Linux\n",
            "Build Compute Capability: SM=37\n",
            "Do Kick in single precision: 0\n",
            "Serial Grouping: 0\n",
            "Do kernel tuning: 1\n",
            "Compute Poincare Section: 0\n",
            "FormatS: 0\n",
            "FormatT: 0\n",
            "FormatP: 1\n",
            "FormatO: 0\n",
            "NmaxM: 32\n",
            "Time step in days: 6 \n",
            "Starting time: 0 \n",
            "Output name: test\n",
            "Energy output interval: 100\n",
            "Coordinates output interval: 100\n",
            "Number of outputs per interval: 1\n",
            "Coordinate output buffer: 1\n",
            "Use Irregular outputs: 0\n",
            "Irregular output calendar: -\n",
            "Use Transits: 0\n",
            "Use RV: 0\n",
            "TTV file name: -\n",
            "RV file name: -\n",
            "Print Transits: 0\n",
            "Print RV: 0\n",
            "Print MCMC: 0\n",
            "MCMC NE: 0\n",
            "MCMC Restart: 0\n",
            "Integration steps: 100000\n",
            "Central Mass: 1\n",
            "Star Radius: 0.00465476\n",
            "Star Love Number: 1\n",
            "Star fluid Love Number: 1\n",
            "Star tau: 0\n",
            "Star spin_x: 0\n",
            "Star spin_y: 0\n",
            "Star spin_z: 0\n",
            "Star Ic: 0.4\n",
            "Solar Constant: 1367\n",
            "n1: 3\n",
            "n2: 0.4\n",
            "Input file: initialplanet_2048.dat\n",
            "Input file format: x y z m vx vy vz \n",
            "Angle units: 0\n",
            "Default rho: 2\n",
            "Number of devices: 1\n",
            "Device number 0: 0\n",
            "Inner truncation radius: 0.5\n",
            "Outer truncation radius: 50\n",
            "MaxColl: 120\n",
            "pc: 3\n",
            "cef: 1\n",
            "Number of bodies: 2048\n",
            "Number of test particles: 0\n",
            "Minimal number of bodies: 1\n",
            "Minimal number of test particles: 0\n",
            "Test Particle Mode: 0\n",
            "Particle Minimum Mass : 0\n",
            "Symplectic recursion Max levels : 3\n",
            "Symplectic recursion levels : 1\n",
            "Symplectic recursion sub steps : 2\n",
            "Restart time step: 0\n",
            "Order of Symplectic integrator: 2\n",
            "Maximum encounter pairs: 512\n",
            "Nfragments: 0\n",
            "Use aeGrid: 0\n",
            "aeGrid amin: 0.000000\n",
            "aeGrid amax: 5.000000\n",
            "aeGrid emin: 0.000000\n",
            "aeGrid emax: 1.000000\n",
            "aeGrid imin: 0.000000\n",
            "aeGrid imax: 0.100000\n",
            "aeGrid Na: 10\n",
            "aeGrid Ne: 10\n",
            "aeGrid Ni: 10\n",
            "aeGrid Count Start: 1\n",
            "aeGrid name: A\n",
            "Use gas disk: 0\n",
            "Use gas disk enhancement: 0\n",
            "Use gas disk potential: 1\n",
            "Use gas disk drag: 2\n",
            "Use gas disk tidal damping: 2\n",
            "Gas dTau_diss: 10000\n",
            "Gas alpha: 1\n",
            "Gas beta: 0.25\n",
            "Gas Sigma_10: 2000\n",
            "Gas Mgiant: 0.0001\n",
            "Use force (Old): 0\n",
            "Use GR: 0\n",
            "Use Tides: 0\n",
            "Use Rotational Deformation: 0\n",
            "Use Yarkovsky: 0\n",
            "Use Poynting-Robertson: 0\n",
            "Radiation Pressure Coefficient Qpr: 1\n",
            "Use Small Collisions: 0\n",
            "Use Set Elemets function: 0\n",
            "Set Elements file name: -\n",
            "Gas file name: -\n",
            "Report Encounters: 0\n",
            "Report Encounters Radius: 3\n",
            "Stop at close Encounters: 0\n",
            "Stop at close Encounter Radius: 1\n",
            "Stop at Collision: 0\n",
            "Stop collision minimum mass: 0\n",
            "Collision precision: 0.0001\n",
            "Collision Time Shift: 1\n",
            "Collision Model: 0\n",
            "Asteroid emissivity: 0.95\n",
            "Asteroid density: 3500\n",
            "Asteroid specific heat capacity: 680\n",
            "Asteroid albedo: 0.2\n",
            "Asteroid thermal conductivity: 2.65\n",
            "Asteroid collisional velocity V: 5000\n",
            "Asteroid minimal fragment radius: 0.01\n",
            "Asteroid fragment remove radius: 0.01\n",
            "Runtime Version: 11010\n",
            "Driver Version: 11020\n",
            "\n",
            "Initialize Memory\n",
            "\n",
            "Read Initial Conditions\n",
            "Initial Conditions OK\n",
            "Compute initial Energy\n",
            "Write initial Energy\n",
            "Energy OK\n",
            "Starting FG kernel parameters tuning\n",
            "tx:32    \ttime:0.000087456002831 s\n",
            "tx:64    \ttime:0.000040063999593 s\n",
            "tx:128    \ttime:0.000038911998272 s\n",
            "tx:256    \ttime:0.000039872001857 s\n",
            "Best parameters: tx:128\t time:0.000038911998272 s\n",
            "Starting Rcrit kernel parameters tuning\n",
            "tx:32    \ttime:0.000024800000712 s\n",
            "tx:64    \ttime:0.000017920000479 s\n",
            "tx:128    \ttime:0.000017759999260 s\n",
            "tx:256    \ttime:0.000017888000235 s\n",
            "Best parameters: tx:128\t time:0.000017759999260 s\n",
            "\n",
            "Starting Kick kernel parameters tuning\n",
            "acc4b time:0.000895200014114 s\n",
            "p:1    \ttx:1    \tty:256    \ttime:0.001858623981476 s\n",
            "p:1    \ttx:1    \tty:128    \ttime:0.001492287993431 s\n",
            "p:1    \ttx:1    \tty:64    \ttime:0.001498271942139 s\n",
            "p:1    \ttx:1    \tty:32    \ttime:0.001885344028473 s\n",
            "p:1    \ttx:32    \tty:16    \ttime:0.004806335926056 s\n",
            "p:1    \ttx:32    \tty:8    \ttime:0.002952447891235 s\n",
            "p:1    \ttx:32    \tty:4    \ttime:0.001831552028656 s\n",
            "p:1    \ttx:32    \tty:2    \ttime:0.002813344001770 s\n",
            "p:1    \ttx:32    \tty:1    \ttime:0.004839488029480 s\n",
            "p:1    \ttx:128    \tty:4    \ttime:0.002148351907730 s\n",
            "p:1    \ttx:128    \tty:2    \ttime:0.002841919898987 s\n",
            "p:1    \ttx:128    \tty:1    \ttime:0.004803296089172 s\n",
            "p:1    \ttx:256    \tty:2    \ttime:0.002860928058624 s\n",
            "p:1    \ttx:256    \tty:1    \ttime:0.004827199935913 s\n",
            "p:2    \ttx:1    \tty:256    \ttime:0.001239392042160 s\n",
            "p:2    \ttx:1    \tty:128    \ttime:0.000984543979168 s\n",
            "p:2    \ttx:1    \tty:64    \ttime:0.000948863983154 s\n",
            "p:2    \ttx:1    \tty:32    \ttime:0.001239680051804 s\n",
            "p:2    \ttx:32    \tty:16    \ttime:0.005543903827667 s\n",
            "p:2    \ttx:32    \tty:8    \ttime:0.002307231903076 s\n",
            "p:2    \ttx:32    \tty:4    \ttime:0.002563071966171 s\n",
            "p:2    \ttx:32    \tty:2    \ttime:0.003874111890793 s\n",
            "p:2    \ttx:32    \tty:1    \ttime:0.006504703998566 s\n",
            "p:2    \ttx:128    \tty:4    \ttime:0.002649152040482 s\n",
            "p:2    \ttx:128    \tty:2    \ttime:0.003885279893875 s\n",
            "p:2    \ttx:128    \tty:1    \ttime:0.006498144149780 s\n",
            "p:2    \ttx:256    \tty:2    \ttime:0.004054624080658 s\n",
            "p:2    \ttx:256    \tty:1    \ttime:0.006581984043121 s\n",
            "p:4    \ttx:1    \tty:256    \ttime:0.000910463988781 s\n",
            "p:4    \ttx:1    \tty:128    \ttime:0.000735199987888 s\n",
            "p:4    \ttx:1    \tty:64    \ttime:0.000769728004932 s\n",
            "p:4    \ttx:1    \tty:32    \ttime:0.001194847941399 s\n",
            "p:4    \ttx:32    \tty:16    \ttime:0.005485184192657 s\n",
            "p:4    \ttx:32    \tty:8    \ttime:0.003562112092972 s\n",
            "p:4    \ttx:32    \tty:4    \ttime:0.004484384059906 s\n",
            "p:4    \ttx:32    \tty:2    \ttime:0.006603168010712 s\n",
            "p:4    \ttx:32    \tty:1    \ttime:0.010933823585510 s\n",
            "p:4    \ttx:128    \tty:4    \ttime:0.004705567836761 s\n",
            "p:4    \ttx:128    \tty:2    \ttime:0.006683199882507 s\n",
            "p:4    \ttx:128    \tty:1    \ttime:0.010862303733826 s\n",
            "p:4    \ttx:256    \tty:2    \ttime:0.007025375843048 s\n",
            "p:4    \ttx:256    \tty:1    \ttime:0.011091551780701 s\n",
            "Best parameters: p:4\t tx:1\t ty:128\t time:0.000735199987888 s\n",
            "Total acc4C + kick32Ab time:0.000765215992928 s\n",
            "Use acc kernel\n",
            "Start integration with 1 simulation\n",
            "first kick OK\n",
            "Body 1330 too close to central mass -> removed\n",
            "Reached timestep 100 with 2047 bodies, 0 test particles. Total Energy: -1.3107713203698000887e-09\n",
            "Reached timestep 200 with 2047 bodies, 0 test particles. Total Energy: -1.3107713203046699552e-09\n",
            "Reached timestep 300 with 2047 bodies, 0 test particles. Total Energy: -1.3107713203150936717e-09\n",
            "Reached timestep 400 with 2047 bodies, 0 test particles. Total Energy: -1.3107713203425482099e-09\n",
            "Reached timestep 500 with 2047 bodies, 0 test particles. Total Energy: -1.3107713203445415083e-09\n",
            "Reached timestep 600 with 2047 bodies, 0 test particles. Total Energy: -1.3107713203640344331e-09\n",
            "Reached timestep 700 with 2047 bodies, 0 test particles. Total Energy: -1.3107713202999440656e-09\n",
            "Reached timestep 800 with 2047 bodies, 0 test particles. Total Energy: -1.3107713203083459459e-09\n",
            "Reached timestep 900 with 2047 bodies, 0 test particles. Total Energy: -1.3107713203513289389e-09\n",
            "Reached timestep 1000 with 2047 bodies, 0 test particles. Total Energy: -1.3107713203367045924e-09\n",
            "Reached timestep 1100 with 2047 bodies, 0 test particles. Total Energy: -1.3107713202949954576e-09\n",
            "Reached timestep 1200 with 2047 bodies, 0 test particles. Total Energy: -1.3107713203403859597e-09\n",
            "Reached timestep 1300 with 2047 bodies, 0 test particles. Total Energy: -1.3107713203462957516e-09\n",
            "Reached timestep 1400 with 2047 bodies, 0 test particles. Total Energy: -1.3107713203132275523e-09\n",
            "Reached timestep 1500 with 2047 bodies, 0 test particles. Total Energy: -1.3107713203107327755e-09\n",
            "Reached timestep 1600 with 2047 bodies, 0 test particles. Total Energy: -1.3107713202977687874e-09\n",
            "Reached timestep 1700 with 2047 bodies, 0 test particles. Total Energy: -1.3107713203311746832e-09\n",
            "Reached timestep 1800 with 2047 bodies, 0 test particles. Total Energy: -1.3107713203512340199e-09\n",
            "Reached timestep 1900 with 2047 bodies, 0 test particles. Total Energy: -1.3107713203406405246e-09\n",
            "Reached timestep 2000 with 2047 bodies, 0 test particles. Total Energy: -1.3107713203243680208e-09\n",
            "Reached timestep 2100 with 2047 bodies, 0 test particles. Total Energy: -1.310771320368080587e-09\n",
            "Reached timestep 2200 with 2047 bodies, 0 test particles. Total Energy: -1.310771320302650187e-09\n",
            "Reached timestep 2300 with 2047 bodies, 0 test particles. Total Energy: -1.3107713203431336469e-09\n",
            "Reached timestep 2400 with 2047 bodies, 0 test particles. Total Energy: -1.3107713203470457976e-09\n",
            "Reached timestep 2500 with 2047 bodies, 0 test particles. Total Energy: -1.3107713203180057611e-09\n",
            "Reached timestep 2600 with 2047 bodies, 0 test particles. Total Energy: -1.3107713203641897362e-09\n",
            "Reached timestep 2700 with 2047 bodies, 0 test particles. Total Energy: -1.3107713203255622628e-09\n",
            "Reached timestep 2800 with 2047 bodies, 0 test particles. Total Energy: -1.3107713202972036162e-09\n",
            "Reached timestep 2900 with 2047 bodies, 0 test particles. Total Energy: -1.3107713202936016583e-09\n",
            "Reached timestep 3000 with 2047 bodies, 0 test particles. Total Energy: -1.3107713203830262931e-09\n",
            "Reached timestep 3100 with 2047 bodies, 0 test particles. Total Energy: -1.3107713203409869065e-09\n",
            "Reached timestep 3200 with 2047 bodies, 0 test particles. Total Energy: -1.3107713203270720742e-09\n",
            "Reached timestep 3300 with 2047 bodies, 0 test particles. Total Energy: -1.3107713203555425969e-09\n",
            "Reached timestep 3400 with 2047 bodies, 0 test particles. Total Energy: -1.3107713203817799387e-09\n",
            "Reached timestep 3500 with 2047 bodies, 0 test particles. Total Energy: -1.3107713203397461355e-09\n",
            "Reached timestep 3600 with 2047 bodies, 0 test particles. Total Energy: -1.3107713203353413988e-09\n",
            "Reached timestep 3700 with 2047 bodies, 0 test particles. Total Energy: -1.3107713203683744429e-09\n",
            "Reached timestep 3800 with 2047 bodies, 0 test particles. Total Energy: -1.3107713203341566693e-09\n",
            "Reached timestep 3900 with 2047 bodies, 0 test particles. Total Energy: -1.3107713203243531315e-09\n",
            "Reached timestep 4000 with 2047 bodies, 0 test particles. Total Energy: -1.3107713203220260657e-09\n",
            "Reached timestep 4100 with 2047 bodies, 0 test particles. Total Energy: -1.3107713203030271746e-09\n",
            "Reached timestep 4200 with 2047 bodies, 0 test particles. Total Energy: -1.3107713203016600518e-09\n",
            "Reached timestep 4300 with 2047 bodies, 0 test particles. Total Energy: -1.3107713203390771532e-09\n",
            "Reached timestep 4400 with 2047 bodies, 0 test particles. Total Energy: -1.3107713203276577181e-09\n",
            "Reached timestep 4500 with 2047 bodies, 0 test particles. Total Energy: -1.3107713203124086435e-09\n",
            "Reached timestep 4600 with 2047 bodies, 0 test particles. Total Energy: -1.3107713203089477198e-09\n",
            "Reached timestep 4700 with 2047 bodies, 0 test particles. Total Energy: -1.3107713203512083773e-09\n",
            "Reached timestep 4800 with 2047 bodies, 0 test particles. Total Energy: -1.3107713203205807743e-09\n",
            "Reached timestep 4900 with 2047 bodies, 0 test particles. Total Energy: -1.3107713203182204145e-09\n",
            "Reached timestep 5000 with 2047 bodies, 0 test particles. Total Energy: -1.3107713203123054527e-09\n",
            "Collision between body 735 and 596\n",
            "Reached timestep 5100 with 2046 bodies, 0 test particles. Total Energy: -1.3107713203790634776e-09\n",
            "Reached timestep 5200 with 2046 bodies, 0 test particles. Total Energy: -1.3107713203458046131e-09\n",
            "Reached timestep 5300 with 2046 bodies, 0 test particles. Total Energy: -1.3107713203262945244e-09\n",
            "Reached timestep 5400 with 2046 bodies, 0 test particles. Total Energy: -1.3107713203236460989e-09\n",
            "Reached timestep 5500 with 2046 bodies, 0 test particles. Total Energy: -1.3107713202987924234e-09\n",
            "Reached timestep 5600 with 2046 bodies, 0 test particles. Total Energy: -1.3107713203573299274e-09\n",
            "Reached timestep 5700 with 2046 bodies, 0 test particles. Total Energy: -1.3107713203396617631e-09\n",
            "Reached timestep 5800 with 2046 bodies, 0 test particles. Total Energy: -1.3107713203408841293e-09\n",
            "Reached timestep 5900 with 2046 bodies, 0 test particles. Total Energy: -1.3107713202978496443e-09\n",
            "Reached timestep 6000 with 2046 bodies, 0 test particles. Total Energy: -1.3107713203045553907e-09\n",
            "Reached timestep 6100 with 2046 bodies, 0 test particles. Total Energy: -1.3107713203175400584e-09\n",
            "Reached timestep 6200 with 2046 bodies, 0 test particles. Total Energy: -1.3107713203836717008e-09\n",
            "Reached timestep 6300 with 2046 bodies, 0 test particles. Total Energy: -1.3107713203354447963e-09\n",
            "Reached timestep 6400 with 2046 bodies, 0 test particles. Total Energy: -1.3107713203604721798e-09\n",
            "Reached timestep 6500 with 2046 bodies, 0 test particles. Total Energy: -1.3107713203160513401e-09\n",
            "Reached timestep 6600 with 2046 bodies, 0 test particles. Total Energy: -1.3107713203126780976e-09\n",
            "Reached timestep 6700 with 2046 bodies, 0 test particles. Total Energy: -1.310771320302230186e-09\n",
            "Signal 2 received\n",
            "Signal 2 received\n",
            "GENGA is interrupted by SIGINT signal at time step 6721\n",
            "Reached timestep 6721 with 2046 bodies, 0 test particles. Total Energy: -1.3107713202804935339e-09\n",
            "GENGA is terminated by SIGINT signal at time step 6721\n"
          ]
        }
      ],
      "source": [
        "!../genga/source/genga"
      ]
    }
  ],
  "metadata": {
    "accelerator": "GPU",
    "colab": {
      "collapsed_sections": [],
      "name": "Copy of Setup_Genga.ipynb",
      "provenance": [],
      "include_colab_link": true
    },
    "kernelspec": {
      "display_name": "Python 3",
      "name": "python3"
    },
    "language_info": {
      "name": "python"
    }
  },
  "nbformat": 4,
  "nbformat_minor": 0
}